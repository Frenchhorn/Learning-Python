{
 "cells": [
  {
   "cell_type": "markdown",
   "metadata": {},
   "source": [
    "# PIL"
   ]
  },
  {
   "cell_type": "markdown",
   "metadata": {},
   "source": [
    "## 1.Image类"
   ]
  },
  {
   "cell_type": "code",
   "execution_count": 5,
   "metadata": {
    "collapsed": true
   },
   "outputs": [],
   "source": [
    "from PIL import Image"
   ]
  },
  {
   "cell_type": "code",
   "execution_count": 6,
   "metadata": {
    "collapsed": false
   },
   "outputs": [],
   "source": [
    "#打开图片\n",
    "im = Image.open(r'C:\\Users\\lenovo\\Desktop\\1.jpg')"
   ]
  },
  {
   "cell_type": "code",
   "execution_count": 4,
   "metadata": {
    "collapsed": true
   },
   "outputs": [],
   "source": [
    "im.show()  #显示图片"
   ]
  },
  {
   "cell_type": "markdown",
   "metadata": {},
   "source": [
    "### 属性"
   ]
  },
  {
   "cell_type": "code",
   "execution_count": 160,
   "metadata": {
    "collapsed": false
   },
   "outputs": [
    {
     "data": {
      "text/plain": [
       "'C:\\\\Users\\\\lenovo\\\\Desktop\\\\1.jpg'"
      ]
     },
     "execution_count": 160,
     "metadata": {},
     "output_type": "execute_result"
    }
   ],
   "source": [
    "#文件名\n",
    "im.filename"
   ]
  },
  {
   "cell_type": "code",
   "execution_count": 167,
   "metadata": {
    "collapsed": false
   },
   "outputs": [
    {
     "data": {
      "text/plain": [
       "941"
      ]
     },
     "execution_count": 167,
     "metadata": {},
     "output_type": "execute_result"
    }
   ],
   "source": [
    "#宽\n",
    "im.width"
   ]
  },
  {
   "cell_type": "code",
   "execution_count": 166,
   "metadata": {
    "collapsed": false,
    "scrolled": true
   },
   "outputs": [
    {
     "data": {
      "text/plain": [
       "973"
      ]
     },
     "execution_count": 166,
     "metadata": {},
     "output_type": "execute_result"
    }
   ],
   "source": [
    "#高\n",
    "im.height"
   ]
  },
  {
   "cell_type": "code",
   "execution_count": 149,
   "metadata": {
    "collapsed": false,
    "scrolled": true
   },
   "outputs": [
    {
     "data": {
      "text/plain": [
       "(941, 973)"
      ]
     },
     "execution_count": 149,
     "metadata": {},
     "output_type": "execute_result"
    }
   ],
   "source": [
    "#图像的尺寸(宽，高)\n",
    "im.size  "
   ]
  },
  {
   "cell_type": "code",
   "execution_count": 150,
   "metadata": {
    "collapsed": false
   },
   "outputs": [
    {
     "data": {
      "text/plain": [
       "'JPEG'"
      ]
     },
     "execution_count": 150,
     "metadata": {},
     "output_type": "execute_result"
    }
   ],
   "source": [
    "#图片的格式\n",
    "im.format   #im.format_description"
   ]
  },
  {
   "cell_type": "code",
   "execution_count": 151,
   "metadata": {
    "collapsed": false
   },
   "outputs": [
    {
     "data": {
      "text/plain": [
       "'RGB'"
      ]
     },
     "execution_count": 151,
     "metadata": {},
     "output_type": "execute_result"
    }
   ],
   "source": [
    "#色彩模式 图像的色彩通道的数量与名字，同时也包括像素的类型和颜色深度信息。通常来说，灰度图像的mode是\"L\" (luminance)，真彩色图像的mode是 \"RGB\" ，而用来打印的图像的mode是\"CMYK\"\n",
    "im.mode"
   ]
  },
  {
   "cell_type": "markdown",
   "metadata": {},
   "source": [
    "### 方法"
   ]
  },
  {
   "cell_type": "code",
   "execution_count": null,
   "metadata": {
    "collapsed": false
   },
   "outputs": [],
   "source": [
    "#调整图片尺寸\n",
    "new_im = im.resize((941,973),)\n",
    "#im.resize(size, resample)  size为(width, height)， \n",
    "#可选 resample 可选为Image.NEAREST（默认）、Image.BILINEAR、Image.BICUBIC、PIL.Image.LANCZOS\n",
    "new_im.save(r'C:\\Users\\lenovo\\Desktop\\1-1.jpg')  #保存图片"
   ]
  },
  {
   "cell_type": "code",
   "execution_count": null,
   "metadata": {
    "collapsed": true
   },
   "outputs": [],
   "source": [
    "#旋转，面积放大 \n",
    "rot_im = new_im.rotate(45,expand = 2)  \n",
    "#逆时针旋转的角度\n",
    "#可选 resample参数 默认为Image.NEAREST\n",
    "#可选 expand参数 默认为1 放大倍数\n",
    "rot_im.save(r'C:\\Users\\lenovo\\Desktop\\1-2.jpg')"
   ]
  },
  {
   "cell_type": "code",
   "execution_count": null,
   "metadata": {
    "collapsed": true
   },
   "outputs": [],
   "source": [
    "#格式转换\n",
    "im.save(r'C:\\Users\\lenovo\\Desktop\\1-3.bmp', )\n",
    "#保存地址和文件名称\n",
    "#可选 format参数 默认为依据文件名后缀 "
   ]
  },
  {
   "cell_type": "code",
   "execution_count": null,
   "metadata": {
    "collapsed": false
   },
   "outputs": [],
   "source": [
    "#pixel counts\n",
    "a = im.histogram()\n",
    "#returns: A list containing pixel counts."
   ]
  },
  {
   "cell_type": "markdown",
   "metadata": {},
   "source": [
    "#转换mode\n",
    "\n",
    "1 (1-bit 像素, 黑白, 一个像素存储为一个字节)\n",
    "\n",
    "L (8-bit 像素, 黑白)\n",
    "\n",
    "P (8-bit 像素, 使用调色板映射到其他任一模式)\n",
    "\n",
    "RGB (3x8-bit 像素, 真彩色)\n",
    "\n",
    "RGBA (4x8-bit 像素, 带透明掩模的真彩色)\n",
    "\n",
    "CMYK (4x8-bit 像素, colour separation)\n",
    "\n",
    "YCbCr (3x8-bit 像素, colour video format)\n",
    "\n",
    "I (32-bit integer 像素)\n",
    "\n",
    "F (32-bit floating point 像素)\n"
   ]
  },
  {
   "cell_type": "code",
   "execution_count": null,
   "metadata": {
    "collapsed": false
   },
   "outputs": [],
   "source": [
    "#转换mode\n",
    "im_1 = im.convert('L')  #灰度图\n",
    "im_1.save(r'C:\\Users\\lenovo\\Desktop\\1-4.jpg')  "
   ]
  },
  {
   "cell_type": "code",
   "execution_count": null,
   "metadata": {
    "collapsed": false
   },
   "outputs": [],
   "source": [
    "im_2 = im.convert('1')  #黑白点图\n",
    "im_2.show()\n",
    "im_2.save(r'C:\\Users\\lenovo\\Desktop\\1-5.jpg')"
   ]
  },
  {
   "cell_type": "code",
   "execution_count": null,
   "metadata": {
    "collapsed": false
   },
   "outputs": [],
   "source": [
    "im_3 = im.convert('RGB')  #3x8-bit pixels, true colour\n",
    "im_3.show()\n",
    "im_3.save(r'C:\\Users\\lenovo\\Desktop\\1-6.jpg')"
   ]
  },
  {
   "cell_type": "code",
   "execution_count": 13,
   "metadata": {
    "collapsed": false
   },
   "outputs": [],
   "source": [
    "thumb = im.thumbnail((im.width/2, im.height/2))  #得到缩略图"
   ]
  },
  {
   "cell_type": "code",
   "execution_count": 20,
   "metadata": {
    "collapsed": true
   },
   "outputs": [],
   "source": [
    "area = (100,100,200,200)\n",
    "#对应(left,upper,right,lower)\n",
    "cut = im.crop(area)  #从图中拷贝一个矩形区域\n",
    "#图的左上角为坐标(0，0)  "
   ]
  },
  {
   "cell_type": "code",
   "execution_count": 30,
   "metadata": {
    "collapsed": false
   },
   "outputs": [],
   "source": [
    "#处理一块子矩形区域，并粘回原处\n",
    "cut = cut.transpose(Image.ROTATE_180)  #反转180度\n",
    "im.paste(cut,area)  #粘回原处\n",
    "im.show()"
   ]
  },
  {
   "cell_type": "markdown",
   "metadata": {},
   "source": [
    "## 2.ImageEnhance模块  图像增强"
   ]
  },
  {
   "cell_type": "markdown",
   "metadata": {},
   "source": [
    "### Color(色平衡)、Brightness(亮度)、Contrast(对比度)、Sharpness(锐化)"
   ]
  },
  {
   "cell_type": "code",
   "execution_count": null,
   "metadata": {
    "collapsed": true
   },
   "outputs": [],
   "source": [
    "from PIL import ImageEnhance"
   ]
  },
  {
   "cell_type": "code",
   "execution_count": null,
   "metadata": {
    "collapsed": true
   },
   "outputs": [],
   "source": [
    "enhancer = ImageEnhance.Sharpness(im)\n",
    "enhancer.enhance(3)\n",
    "#factor参数 1为原图 小于1为减弱 大于1为增强  锐化程度"
   ]
  },
  {
   "cell_type": "code",
   "execution_count": null,
   "metadata": {
    "collapsed": false
   },
   "outputs": [],
   "source": [
    "enhancer = ImageEnhance.Color(im)\n",
    "enhancer.enhance(2)\n",
    "#factor参数 1为原图 0为黑白 小于1为减弱 大于1为增强  色平衡"
   ]
  },
  {
   "cell_type": "code",
   "execution_count": null,
   "metadata": {
    "collapsed": false
   },
   "outputs": [],
   "source": [
    "enhancer = ImageEnhance.Brightness(im)\n",
    "enhancer.enhance(1.1)\n",
    "#factor参数 1为原图 0为全黑图 小于1为减弱 大于1为增强  亮度"
   ]
  },
  {
   "cell_type": "code",
   "execution_count": null,
   "metadata": {
    "collapsed": false
   },
   "outputs": [],
   "source": [
    "enhancer = ImageEnhance.Contrast(im)\n",
    "enhancer.enhance(3)\n",
    "#factor参数 1为原图 0为全灰图 小于1为减弱 大于1为增强  对比度"
   ]
  },
  {
   "cell_type": "markdown",
   "metadata": {},
   "source": [
    "## 3.ImageFilter模块  滤镜"
   ]
  },
  {
   "cell_type": "markdown",
   "metadata": {},
   "source": [
    "PIL 在 Filter 方面的支持是非常完备的，除常见的模糊、浮雕、轮廓、边缘增强和平滑，还有中值滤波、ModeFilter等，简直方便到可以做自己做一个Photoshop。\n",
    "\n",
    "这些 Filter 都放置在 ImageFilter 模块中，ImageFilter主要包括两部分内容，一是内置的 Filter，如 BLUR、DETAIL等，另一部分是 Filter 函数，可以指定不同的参数获得不同的效果。"
   ]
  },
  {
   "cell_type": "code",
   "execution_count": null,
   "metadata": {
    "collapsed": true
   },
   "outputs": [],
   "source": [
    "from PIL import ImageFilter"
   ]
  },
  {
   "cell_type": "code",
   "execution_count": null,
   "metadata": {
    "collapsed": false
   },
   "outputs": [],
   "source": [
    "im.filter(ImageFilter.BLUR)\n",
    "#内置滤镜 模糊"
   ]
  },
  {
   "cell_type": "code",
   "execution_count": null,
   "metadata": {
    "collapsed": false
   },
   "outputs": [],
   "source": [
    "im.filter(ImageFilter.GaussianBlur(radius=2))\n",
    "#内置滤镜 高斯模糊  radius默认为2"
   ]
  },
  {
   "cell_type": "code",
   "execution_count": null,
   "metadata": {
    "collapsed": false
   },
   "outputs": [],
   "source": [
    "im.filter(ImageFilter.SHARPEN)\n",
    "#内置滤镜 锐化"
   ]
  },
  {
   "cell_type": "code",
   "execution_count": null,
   "metadata": {
    "collapsed": false
   },
   "outputs": [],
   "source": [
    "im.filter(ImageFilter.UnsharpMask(radius=2, percent=150, threshold=3))\n",
    "#内置滤镜 调节边缘对比度形成的锐化   非锐化滤镜"
   ]
  },
  {
   "cell_type": "code",
   "execution_count": null,
   "metadata": {
    "collapsed": false
   },
   "outputs": [],
   "source": [
    "im.filter(ImageFilter.EDGE_ENHANCE)\n",
    "#内置滤镜 边缘锐化|边缘增强\n",
    "#通过将边缘两边像素的对比扩大来锐化图像边缘的一种图像处理技术\n",
    "im.filter(ImageFilter.EDGE_ENHANCE_MORE)\n",
    "#内置滤镜 边缘锐化|边缘增强 MORE"
   ]
  },
  {
   "cell_type": "code",
   "execution_count": null,
   "metadata": {
    "collapsed": false
   },
   "outputs": [],
   "source": [
    "im.filter(ImageFilter.FIND_EDGES)\n",
    "#内置滤镜 寻找边缘"
   ]
  },
  {
   "cell_type": "code",
   "execution_count": null,
   "metadata": {
    "collapsed": false
   },
   "outputs": [],
   "source": [
    "im.filter(ImageFilter.CONTOUR)\n",
    "#内置滤镜 轮廓"
   ]
  },
  {
   "cell_type": "code",
   "execution_count": null,
   "metadata": {
    "collapsed": false
   },
   "outputs": [],
   "source": [
    "im.filter(ImageFilter.DETAIL)\n",
    "#内置滤镜 细节"
   ]
  },
  {
   "cell_type": "code",
   "execution_count": null,
   "metadata": {
    "collapsed": false,
    "scrolled": true
   },
   "outputs": [],
   "source": [
    "im.filter(ImageFilter.EMBOSS)\n",
    "#内置滤镜 浮雕"
   ]
  },
  {
   "cell_type": "code",
   "execution_count": null,
   "metadata": {
    "collapsed": false
   },
   "outputs": [],
   "source": [
    "im.filter(ImageFilter.SMOOTH)\n",
    "#内置滤镜 平滑\n",
    "im.filter(ImageFilter.SMOOTH_MORE)\n",
    "#内置滤镜 "
   ]
  },
  {
   "cell_type": "code",
   "execution_count": null,
   "metadata": {
    "collapsed": false
   },
   "outputs": [],
   "source": [
    "im.filter(ImageFilter.Kernel(size = (3, 3), kernel = (0.5, 0.5, 0.5, 0.5, 0.5, 0.5, 0.5, 0.5, 0.5)))\n",
    "#内置滤镜 亮度调整 size必须为(3,3)或(5,5) kernel对应为9个、25个值 "
   ]
  },
  {
   "cell_type": "code",
   "execution_count": null,
   "metadata": {
    "collapsed": false
   },
   "outputs": [],
   "source": [
    "im.filter(ImageFilter.MaxFilter(size=11))\n",
    "#内置滤镜 1为原图 size为奇数 默认为3 \n",
    "#Picks the largest pixel value in a window with the given size.\n",
    "#在给定的宽度上取像素值最大的点，偏白\n",
    "im.filter(ImageFilter.MinFilter(size=3))\n",
    "#内置滤镜 1为原图 size为奇数 默认为3\n",
    "#Picks the lowest pixel value in a window with the given size.\n",
    "im.filter(ImageFilter.MedianFilter(size=11))\n",
    "#内置滤镜 1为原图 size为奇数 默认为3\n",
    "#Picks the median pixel value in a window with the given size.\n",
    "im.filter(ImageFilter.ModeFilter(size=3))\n",
    "#内置滤镜 1为原图 size为奇数 默认为3\n",
    "#Picks the most frequent pixel value in a window with the given size.\n",
    "im.filter(ImageFilter.RankFilter(size=7, rank=24))\n",
    "#内置滤镜 1为原图 size为奇数 rank范围是0 - (size*size-1)"
   ]
  },
  {
   "cell_type": "code",
   "execution_count": null,
   "metadata": {
    "collapsed": true
   },
   "outputs": [],
   "source": []
  }
 ],
 "metadata": {
  "kernelspec": {
   "display_name": "Python 3",
   "language": "python",
   "name": "python3"
  },
  "language_info": {
   "codemirror_mode": {
    "name": "ipython",
    "version": 3
   },
   "file_extension": ".py",
   "mimetype": "text/x-python",
   "name": "python",
   "nbconvert_exporter": "python",
   "pygments_lexer": "ipython3",
   "version": "3.4.4"
  }
 },
 "nbformat": 4,
 "nbformat_minor": 0
}
