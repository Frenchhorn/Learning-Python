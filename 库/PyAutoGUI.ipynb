{
 "cells": [
  {
   "cell_type": "markdown",
   "metadata": {},
   "source": [
    "# PyAutoGUI官方文档"
   ]
  },
  {
   "cell_type": "markdown",
   "metadata": {},
   "source": [
    "## Introduction"
   ]
  },
  {
   "cell_type": "markdown",
   "metadata": {},
   "source": [
    "### Purpose"
   ]
  },
  {
   "cell_type": "markdown",
   "metadata": {},
   "source": [
    "PyAutoGUI是一个跨平台的Python模块，用于GUI的自动化操作。\n",
    "\n",
    "下面是一个简单的例子，在Windows, OS X, and Linux中的写法是完全一样的："
   ]
  },
  {
   "cell_type": "code",
   "execution_count": 1,
   "metadata": {
    "collapsed": true
   },
   "outputs": [],
   "source": [
    "import pyautogui"
   ]
  },
  {
   "cell_type": "code",
   "execution_count": 2,
   "metadata": {
    "collapsed": true
   },
   "outputs": [],
   "source": [
    "#获取屏幕的宽，高\n",
    "screenWidth, screenHeight = pyautogui.size()"
   ]
  },
  {
   "cell_type": "code",
   "execution_count": 3,
   "metadata": {
    "collapsed": true
   },
   "outputs": [],
   "source": [
    "#移动鼠标到屏幕中间\n",
    "pyautogui.moveTo(screenWidth/2, screenHeight/2)"
   ]
  },
  {
   "cell_type": "code",
   "execution_count": null,
   "metadata": {
    "collapsed": true
   },
   "outputs": [],
   "source": [
    "#判断某坐标是否在屏幕内,返回True或False\n",
    "pyautogui.onScreen(x,y)"
   ]
  },
  {
   "cell_type": "markdown",
   "metadata": {},
   "source": [
    "PyAutoGUI能模仿鼠标的移动、点击、拖曳，键盘的输入、持续按住、组合键输入。"
   ]
  },
  {
   "cell_type": "markdown",
   "metadata": {},
   "source": [
    "### Examples"
   ]
  },
  {
   "cell_type": "markdown",
   "metadata": {},
   "source": [
    "#### 关于鼠标的操作"
   ]
  },
  {
   "cell_type": "code",
   "execution_count": 9,
   "metadata": {
    "collapsed": true
   },
   "outputs": [],
   "source": [
    "#获得当前鼠标的位置\n",
    "currentMouseX, currentMouseY = pyautogui.position()\n",
    "#移动鼠标到(100,150),左上为(0,0),向下和向右为增\n",
    "pyautogui.moveTo(100,150)\n",
    "#点击鼠标一次\n",
    "pyautogui.click()\n",
    "#鼠标向下移动，即从(100,150)移动到(100,160)\n",
    "pyautogui.moveRel(None, 10)\n",
    "#双击鼠标左键\n",
    "pyautogui.doubleClick()\n",
    "#移动鼠标到(500,500)\n",
    "pyautogui.moveTo(500,500, duration = 2, tween = pyautogui.tweens.easeInOutQuad)\n",
    "#duration是移动到目标坐标所用时间，tween是移动的方式，详见tweens.py\n",
    "\n",
    "#从当前坐标拖曳移动到(0，0)，持续0.5秒\n",
    "pyautogui.dragRel(0, 0, duration=0.5)\n",
    "\n",
    "#在坐标（x,y）按下鼠标左键，不放开\n",
    "pyautogui.mouseDown(x=moveToX, y=moveToY, button='left')\n",
    "\n",
    "pyautogui.mouseUp(x=moveToX, y=moveToY, button='left')"
   ]
  },
  {
   "cell_type": "markdown",
   "metadata": {},
   "source": [
    "#### 关于键盘的操作"
   ]
  },
  {
   "cell_type": "code",
   "execution_count": null,
   "metadata": {
    "collapsed": true
   },
   "outputs": [],
   "source": [
    "#打字，Hello world!，每个字符间隔0.25秒\n",
    "pyautogui.typewrite('Hello world!', interval=0.25)\n",
    "#按一下键盘的ESC键\n",
    "pyautogui.press('esc')\n",
    "#press(keys, presses=1, interval=0.0, pause=None, _pause=True)\n",
    "#keys可以是字符串或列表，presses为次数，interval为间隔\n",
    "#具体哪些字符串和键盘哪些键对应，可以看pyautogui.KEYBOARD_KEYS\n",
    "\n",
    "#按下Shift键，不放开\n",
    "pyautogui.keyDown('shift')\n",
    "#按六次left键\n",
    "pyautogui.press(['left', 'left', 'left', 'left', 'left', 'left'])\n",
    "#放开Shift键\n",
    "pyautogui.keyUp('shift')\n",
    "#热键,其实就是依次按下各个键，再一次放开这些键，有一个可选的interval参数\n",
    "pyautogui.hotkey('ctrl', 'c')"
   ]
  },
  {
   "cell_type": "markdown",
   "metadata": {},
   "source": [
    "#### 一个具体的例子"
   ]
  },
  {
   "cell_type": "markdown",
   "metadata": {},
   "source": [
    "拖曳鼠标在MS画图中画一个正方形螺旋纹路"
   ]
  },
  {
   "cell_type": "code",
   "execution_count": null,
   "metadata": {
    "collapsed": true
   },
   "outputs": [],
   "source": [
    "distance = 200\n",
    "while distance > 0:\n",
    "    pyautogui.dragRel(distance, 0, duration=0.5)   # move right\n",
    "    distance -= 5\n",
    "    pyautogui.dragRel(0, distance, duration=0.5)   # move down\n",
    "    pyautogui.dragRel(-distance, 0, duration=0.5)  # move left\n",
    "    distance -= 5\n",
    "    pyautogui.dragRel(0, -distance, duration=0.5)  # move up"
   ]
  },
  {
   "cell_type": "markdown",
   "metadata": {},
   "source": [
    "![Foo](https://pyautogui.readthedocs.org/en/latest/_images/square_spiral.png)"
   ]
  },
  {
   "cell_type": "markdown",
   "metadata": {},
   "source": [
    "### Dependencies"
   ]
  },
  {
   "cell_type": "markdown",
   "metadata": {},
   "source": [
    "在Windows中，PyAutoGUI不依赖其它模块(除了Pillow模块)，它并不需要pywin32模块，因为它用的是Python自身的ctypes模块\n",
    "\n",
    "在OS X中，则需要安装PyObjC，可以在PyPI中下载安装pyobjc-core和pyobjc。\n",
    "\n",
    "在Linux中，则需要python-xlib (Python2)或python3-Xlib (Python3)"
   ]
  },
  {
   "cell_type": "markdown",
   "metadata": {},
   "source": [
    "### Fali-Safes"
   ]
  },
  {
   "cell_type": "markdown",
   "metadata": {},
   "source": [
    "紧急停止操作\n",
    "\n",
    "当pyautogui.FAILSAFE = True (默认为True)时，只要把鼠标移到屏幕左上角，就能紧急停止程序"
   ]
  },
  {
   "cell_type": "markdown",
   "metadata": {},
   "source": [
    "### 暂停操作"
   ]
  },
  {
   "cell_type": "markdown",
   "metadata": {},
   "source": [
    "在任何操作后面可以设置pyautogui.PAUSE，从而让程序暂停\n",
    "\n",
    "例如："
   ]
  },
  {
   "cell_type": "code",
   "execution_count": 12,
   "metadata": {
    "collapsed": true
   },
   "outputs": [],
   "source": [
    "#在2.5秒后，鼠标移动到（100，100），然后在3秒后点击左键\n",
    "pyautogui.PAUSE = 2.5\n",
    "pyautogui.moveTo(100,100)\n",
    "pyautogui.PAUSE = 3\n",
    "pyautogui.click()"
   ]
  },
  {
   "cell_type": "markdown",
   "metadata": {},
   "source": [
    "## Installation"
   ]
  },
  {
   "cell_type": "code",
   "execution_count": null,
   "metadata": {
    "collapsed": true
   },
   "outputs": [],
   "source": [
    "#Windows\n",
    "pip install pyautogui\n",
    "\n",
    "#OS X\n",
    "sudo pip3 install pyobjc-core\n",
    "sudo pip3 install pyobjc\n",
    "sudu pip3 install pyautogui\n",
    "\n",
    "#Linux\n",
    "sudo pip3 install python3-xlib\n",
    "sudo apt-get scrot\n",
    "sudo apt-get install python-tk\n",
    "sudo apt-get install python3-dev\n",
    "sudo pip3 install pyautogui\n",
    "\n",
    "#安装PyAutoGUI时，会自动安装Pillow相关的库"
   ]
  },
  {
   "cell_type": "markdown",
   "metadata": {},
   "source": [
    "## Cheat Sheet/小抄"
   ]
  },
  {
   "cell_type": "markdown",
   "metadata": {},
   "source": [
    "这里是PyAutoGUI的快速入门参考，PyAutoGUI是一个跨平台的模块，需要在Python 2或3内使用。通过PyAutoGUI可以操作鼠标和键盘，同时这个模块还有一些基础的图形识别功能。"
   ]
  },
  {
   "cell_type": "markdown",
   "metadata": {
    "collapsed": true
   },
   "source": [
    "[直接参考别人的翻译](https://muxuezi.github.io/posts/doc-pyautogui.html)"
   ]
  },
  {
   "cell_type": "markdown",
   "metadata": {},
   "source": [
    "## Mouse Control Functions/鼠标控制函数"
   ]
  },
  {
   "cell_type": "markdown",
   "metadata": {},
   "source": [
    "### The Screen and Mouse Position/屏幕和鼠标的位置"
   ]
  },
  {
   "cell_type": "markdown",
   "metadata": {},
   "source": [
    "屏幕的坐标用X,Y来表示，X坐标从屏幕最左边的0开始，向右增大。Y坐标从屏幕最上边的0开始，向下增大。以下是具体图示："
   ]
  },
  {
   "cell_type": "markdown",
   "metadata": {},
   "source": [
    "0,0       X increases -->\n",
    "+---------------------------+\n",
    "|                           | Y increases\n",
    "|                           |     |\n",
    "|   1920 x 1080 screen      |     |\n",
    "|                           |     V\n",
    "|                           |\n",
    "|                           |\n",
    "+---------------------------+ 1919, 1079"
   ]
  },
  {
   "cell_type": "markdown",
   "metadata": {},
   "source": [
    "最左上角是坐标(0,0)，如果你的屏幕大小是1920×1080，那你的屏幕右下角的坐标为(1919,1079)。\n",
    "\n",
    "屏幕大小可以用函数size()得到，这个函数会返回一个包含宽和高的元组。而鼠标的的坐标可以从posotion()函数得到。\n",
    "\n",
    "例如："
   ]
  },
  {
   "cell_type": "code",
   "execution_count": 2,
   "metadata": {
    "collapsed": false
   },
   "outputs": [
    {
     "data": {
      "text/plain": [
       "(1366, 768)"
      ]
     },
     "execution_count": 2,
     "metadata": {},
     "output_type": "execute_result"
    }
   ],
   "source": [
    "pyautogui.size()"
   ]
  },
  {
   "cell_type": "code",
   "execution_count": 3,
   "metadata": {
    "collapsed": false
   },
   "outputs": [
    {
     "data": {
      "text/plain": [
       "(568, 638)"
      ]
     },
     "execution_count": 3,
     "metadata": {},
     "output_type": "execute_result"
    }
   ],
   "source": [
    "pyautogui.position()"
   ]
  },
  {
   "cell_type": "markdown",
   "metadata": {},
   "source": [
    "这里有个Python3的小程序，会不断打印出当前鼠标坐标"
   ]
  },
  {
   "cell_type": "code",
   "execution_count": null,
   "metadata": {
    "collapsed": true
   },
   "outputs": [],
   "source": [
    "#! Python3\n",
    "import pyautogui, sys\n",
    "print('按Ctrl-C退出')\n",
    "try:\n",
    "    while True:\n",
    "        x, y = pyautogui.position()\n",
    "        positionStr = 'X: ' + str(x).rjust(4) + 'Y: ' + str(y).rjust(4)\n",
    "        print(positionStr, end='')\n",
    "        pyautogui.PAUSE = 3"
   ]
  },
  {
   "cell_type": "markdown",
   "metadata": {},
   "source": [
    "为了确定某坐标是否在屏幕内，可以把坐标（或包含坐标的元组、列表）传进函数onScreen()中，函数会返回True或False。\n",
    "\n",
    "例子："
   ]
  },
  {
   "cell_type": "code",
   "execution_count": 3,
   "metadata": {
    "collapsed": false
   },
   "outputs": [
    {
     "data": {
      "text/plain": [
       "True"
      ]
     },
     "execution_count": 3,
     "metadata": {},
     "output_type": "execute_result"
    }
   ],
   "source": [
    "pyautogui.onScreen(0,0)"
   ]
  },
  {
   "cell_type": "code",
   "execution_count": 4,
   "metadata": {
    "collapsed": false
   },
   "outputs": [
    {
     "data": {
      "text/plain": [
       "False"
      ]
     },
     "execution_count": 4,
     "metadata": {},
     "output_type": "execute_result"
    }
   ],
   "source": [
    "pyautogui.onScreen(0,-1)"
   ]
  },
  {
   "cell_type": "code",
   "execution_count": 5,
   "metadata": {
    "collapsed": false
   },
   "outputs": [
    {
     "data": {
      "text/plain": [
       "True"
      ]
     },
     "execution_count": 5,
     "metadata": {},
     "output_type": "execute_result"
    }
   ],
   "source": [
    "pyautogui.onScreen([123,345])"
   ]
  },
  {
   "cell_type": "code",
   "execution_count": 6,
   "metadata": {
    "collapsed": false
   },
   "outputs": [
    {
     "data": {
      "text/plain": [
       "False"
      ]
     },
     "execution_count": 6,
     "metadata": {},
     "output_type": "execute_result"
    }
   ],
   "source": [
    "pyautogui.onScreen((12345,234))"
   ]
  },
  {
   "cell_type": "markdown",
   "metadata": {},
   "source": [
    "### 鼠标的动作"
   ]
  },
  {
   "cell_type": "markdown",
   "metadata": {},
   "source": [
    "函数moveTo(X,Y)能够移动鼠标到相应的X,Y坐标。如果传入None则表示当前的坐标。例如："
   ]
  },
  {
   "cell_type": "code",
   "execution_count": null,
   "metadata": {
    "collapsed": false
   },
   "outputs": [],
   "source": [
    "pyautogui.moveTo(100,200) #移动鼠标到坐标(100,200)\n",
    "pyautogui.moveTo([200,100]) #移动鼠标到坐标(200,100)\n",
    "pyautogui.moveTo((100,200) #移动鼠标到坐标(100,200)\n",
    "pyautogui.moveTo(None,500) #移动鼠标到坐标(100,500)\n",
    "pyautogui.moveTo(600,None) #移动鼠标到坐标(600,200)"
   ]
  },
  {
   "cell_type": "markdown",
   "metadata": {},
   "source": [
    "通常，鼠标会立即移动到新的坐标。如果你希望它慢慢移动，可以传入第三个参数duration，它代表移动的时间（秒）。"
   ]
  },
  {
   "cell_type": "code",
   "execution_count": 10,
   "metadata": {
    "collapsed": true
   },
   "outputs": [],
   "source": [
    "pyautogui.moveTo(100,200,2)  #用2秒移动到坐标(100,200)"
   ]
  },
  {
   "cell_type": "markdown",
   "metadata": {},
   "source": [
    "如果传入的duration小于pyautogui.MINIMUM_DURATION，则会变成立即移动，一般，pyautogui.MINIMUM_DURATION为0.1。\n",
    "\n",
    "如果你希望移动相对与当前鼠标坐标的值时，可以用moveRel()。这个函数的参数类似于moveTo()。例子："
   ]
  },
  {
   "cell_type": "code",
   "execution_count": 11,
   "metadata": {
    "collapsed": true
   },
   "outputs": [],
   "source": [
    "pyautogui.moveRel(100)  #向右移动100个像素"
   ]
  },
  {
   "cell_type": "code",
   "execution_count": 12,
   "metadata": {
    "collapsed": true
   },
   "outputs": [],
   "source": [
    "pyautogui.moveRel(0,100) #向下移动100个像素"
   ]
  },
  {
   "cell_type": "code",
   "execution_count": 13,
   "metadata": {
    "collapsed": true
   },
   "outputs": [],
   "source": [
    "pyautogui.moveRel(-100,-100) #向左移动100个像素，向上移动100个像素"
   ]
  },
  {
   "cell_type": "markdown",
   "metadata": {},
   "source": [
    "### 鼠标拖曳"
   ]
  },
  {
   "cell_type": "markdown",
   "metadata": {},
   "source": [
    "PyAutoGUI的dragTo()和dragRel()的参数类似于moveTo()和moveRel()，但多了一个button参数，这个参数是用来设置按住的键，可以是'left'鼠标左键，'middle'鼠标中键，'right'鼠标右键。例如："
   ]
  },
  {
   "cell_type": "code",
   "execution_count": 14,
   "metadata": {
    "collapsed": true
   },
   "outputs": [],
   "source": [
    "pyautogui.dragTo(100, 200, button='left')     # 按住鼠标左键立即移动到坐标（100，200）\n",
    "pyautogui.dragTo(300, 400, 2, button='left')  # 按住鼠标左键用2秒移动到坐标（300，400）\n",
    "pyautogui.dragRel(30, 0, 2, button='right')   # 按住鼠标右键，用2秒向坐标（x+30,y）移动，（x,y）为当前坐标"
   ]
  },
  {
   "cell_type": "markdown",
   "metadata": {},
   "source": [
    "### Tween / Easing Functions/缓动函数"
   ]
  },
  {
   "cell_type": "markdown",
   "metadata": {},
   "source": [
    "tween是额外的功能，如果鼠标移动函数的duration不为0时，即鼠标不是即刻移动到时，可以通过tween参数选择移动的形式，如pyautogui.tweens.easeQuad表示先快后慢的移动方式。例子："
   ]
  },
  {
   "cell_type": "code",
   "execution_count": null,
   "metadata": {
    "collapsed": true
   },
   "outputs": [],
   "source": [
    "pyautogui.moveTo(100, 100, 2, pyautogui.easeInQuad)     # start slow, end fast\n",
    "pyautogui.moveTo(100, 100, 2, pyautogui.easeOutQuad)    # start fast, end slow\n",
    "pyautogui.moveTo(100, 100, 2, pyautogui.easeInOutQuad)  # start and end fast, slow in middle\n",
    "pyautogui.moveTo(100, 100, 2, pyautogui.easeInBounce)   # bounce at the end\n",
    "pyautogui.moveTo(100, 100, 2, pyautogui.easeInElastic)  # rubber band at the end"
   ]
  },
  {
   "cell_type": "markdown",
   "metadata": {},
   "source": [
    "### 鼠标点击"
   ]
  },
  {
   "cell_type": "markdown",
   "metadata": {},
   "source": [
    "函数click()模仿在当前坐标单次的鼠标左键。一次点击表示，鼠标按钮的一下一上。例如;"
   ]
  },
  {
   "cell_type": "code",
   "execution_count": 15,
   "metadata": {
    "collapsed": true
   },
   "outputs": [],
   "source": [
    "pyautogui.click()"
   ]
  },
  {
   "cell_type": "markdown",
   "metadata": {},
   "source": [
    "在点击前可以先移动，只需为click的参数x,y传入值即可。"
   ]
  },
  {
   "cell_type": "code",
   "execution_count": 18,
   "metadata": {
    "collapsed": true
   },
   "outputs": [],
   "source": [
    "pyautogui.click(100,200)  #移动到(100,200)然后点击鼠标左键"
   ]
  },
  {
   "cell_type": "markdown",
   "metadata": {},
   "source": [
    "click()还有button参数，可以设置点击左键'left'，中键'middle'，右键'right'。"
   ]
  },
  {
   "cell_type": "code",
   "execution_count": 20,
   "metadata": {
    "collapsed": true
   },
   "outputs": [],
   "source": [
    "pyautogui.click(button='right')  #点击鼠标右键"
   ]
  },
  {
   "cell_type": "markdown",
   "metadata": {},
   "source": [
    "如果要点击鼠标多次，可以为click()函数的clicks参数赋值。同时你可以为interval参数赋值，这代表每次点击之间间隔的时间。"
   ]
  },
  {
   "cell_type": "code",
   "execution_count": null,
   "metadata": {
    "collapsed": true
   },
   "outputs": [],
   "source": [
    "pyautogui.click(clicks=2)  # 双击鼠标左键\n",
    "pyautogui.click(clicks=2, interval=0.25)  # 点击鼠标左键2次，每次间隔0.25秒\n",
    "pyautogui.click(button='right', clicks=3, interval=0.25) #点击鼠标右键3次，每次间隔0.25秒"
   ]
  },
  {
   "cell_type": "code",
   "execution_count": null,
   "metadata": {
    "collapsed": true
   },
   "outputs": [],
   "source": [
    "pyautogui.doubleClick();\n",
    "pyautogui.middleClick();\n",
    "pyautogui.rightClick();\n",
    "pyautogui.tripleClick();\n",
    "#这些都是click()的变种，但能够美化代码。\n"
   ]
  },
  {
   "cell_type": "markdown",
   "metadata": {},
   "source": [
    "### mouseDown()和mouesUp()"
   ]
  },
  {
   "cell_type": "markdown",
   "metadata": {},
   "source": [
    "鼠标的点击和拖曳都包含了鼠标按钮的上下过程，如果你要把这个过程分开实现，可以使用函数mouseDown()和mouseUp()。这两个函数的参数有x,y和button。"
   ]
  },
  {
   "cell_type": "code",
   "execution_count": null,
   "metadata": {
    "collapsed": true
   },
   "outputs": [],
   "source": [
    "pyautogui.mouseDown(); pyautogui.mouseUp()  #作用与click()一样\n",
    "pyautogui.mouseDown(button='right')  #把鼠标右键按下，不放开\n",
    "pyautogui.mouseUp(button='right', x=100, y=200)  #把鼠标移动到坐标（100，200），然后放开鼠标右键\n",
    "#上面这两个动作等同于\n",
    "pyautogui.dragTo(x = 100, y = 200, button='right')"
   ]
  },
  {
   "cell_type": "markdown",
   "metadata": {},
   "source": [
    "### 鼠标滚动"
   ]
  },
  {
   "cell_type": "markdown",
   "metadata": {},
   "source": [
    "鼠标滚动可以通过scroll()实现，传入的第一个参数表示滚动的\"点击数\"，还可以设置x,y参数，表示先移动到坐标(x,y)"
   ]
  },
  {
   "cell_type": "code",
   "execution_count": 24,
   "metadata": {
    "collapsed": true
   },
   "outputs": [],
   "source": [
    "pyautogui.scroll(10)  #向上滚动10\n",
    "pyautogui.scroll(10, x=100, y=100)  #先移动到(100,100)在滚动"
   ]
  },
  {
   "cell_type": "markdown",
   "metadata": {},
   "source": [
    "在OS X和Linux平台，要用hscroll()函数替代scroll()函数。"
   ]
  },
  {
   "cell_type": "markdown",
   "metadata": {},
   "source": [
    "## Keyboard Control Functions/键盘控制函数"
   ]
  },
  {
   "cell_type": "markdown",
   "metadata": {},
   "source": [
    "### typewrite()/打字"
   ]
  },
  {
   "cell_type": "markdown",
   "metadata": {},
   "source": []
  }
 ],
 "metadata": {
  "kernelspec": {
   "display_name": "Python 3",
   "language": "python",
   "name": "python3"
  },
  "language_info": {
   "codemirror_mode": {
    "name": "ipython",
    "version": 3
   },
   "file_extension": ".py",
   "mimetype": "text/x-python",
   "name": "python",
   "nbconvert_exporter": "python",
   "pygments_lexer": "ipython3",
   "version": "3.4.4"
  }
 },
 "nbformat": 4,
 "nbformat_minor": 0
}
