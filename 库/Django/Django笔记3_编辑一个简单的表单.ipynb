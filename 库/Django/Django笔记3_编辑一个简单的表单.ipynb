{
 "cells": [
  {
   "cell_type": "markdown",
   "metadata": {
    "collapsed": true
   },
   "source": [
    "# 编辑一个简单的表单"
   ]
  },
  {
   "cell_type": "markdown",
   "metadata": {},
   "source": [
    "更新一下在上一个教程中编写的投票详细页面的模板（polls/detail.html），让它包含一个HTML<form> 元素："
   ]
  },
  {
   "cell_type": "code",
   "execution_count": null,
   "metadata": {
    "collapsed": true
   },
   "outputs": [],
   "source": [
    "<h1>{{ question.question_text }}</h1>\n",
    "\n",
    "{% if error_message %}<p><strong>{{ error_message }}</strong></p>{% endif %}\n",
    "#如果有错误信息error_message，就显示出来\n",
    "\n",
    "<form action=\"{% url 'polls:vote' question.id %}\" method=\"post\">  \n",
    "{% csrf_token %}  #所有针对内部URL的POST表单都应该使用{% csrf_token %}模板标签，用于防止跨站点请求伪造\n",
    "{% for choice in question.choice_set.all %}  #列出问题的每个选项\n",
    "    <input type=\"radio\" name=\"choice\" id=\"choice{{ forloop.counter }}\" value=\"{{ choice.id }}\" />  #单选按钮\n",
    "    <label for=\"choice{{ forloop.counter }}\">{{ choice.choice_text }}</label><br />\n",
    "{% endfor %}\n",
    "<input type=\"submit\" value=\"投票！\" />  #提交按钮\n",
    "</form>"
   ]
  },
  {
   "cell_type": "markdown",
   "metadata": {},
   "source": [
    "### 编写view()函数"
   ]
  },
  {
   "cell_type": "markdown",
   "metadata": {},
   "source": [
    "在教程中，我们在polls/urls.py中为投票应用创建了一个URLconf ，包含这一行："
   ]
  },
  {
   "cell_type": "code",
   "execution_count": null,
   "metadata": {
    "collapsed": true
   },
   "outputs": [],
   "source": [
    "url(r'^(?P<question_id>[0-9]+)/vote/$', views.vote, name='vote')"
   ]
  },
  {
   "cell_type": "markdown",
   "metadata": {},
   "source": [
    "在其中创建了一个vote()函数的虚拟实现。现在让我们来创建一个真实的版本。 将下面的代码添加到polls/views.py"
   ]
  },
  {
   "cell_type": "code",
   "execution_count": null,
   "metadata": {
    "collapsed": true
   },
   "outputs": [],
   "source": [
    "from django.shortcuts import get_object_or_404, render\n",
    "from django.http import HttpResponseRedirect, HttpResponse\n",
    "from django.core.urlresolvers import reverse\n",
    "\n",
    "from .models import Choice, Question\n",
    "# ...\n",
    "def vote(request, question_id):\n",
    "    p = get_object_or_404(Question, pk=question_id)\n",
    "    try:\n",
    "        selected_choice = p.choice_set.get(pk=request.POST['choice'])\n",
    "        #request.POST 是一个类字典对象，让你可以通过关键字的名字获取提交的数据。 request.POST['choice'] 以字符串形式返回选择的Choice的ID。\n",
    "        \n",
    "    except (KeyError, Choice.DoesNotExist):\n",
    "        # 重新显示页面，给error_message赋值\n",
    "        return render(request, 'polls/detail.html', {\n",
    "            'question': p,\n",
    "            'error_message': \"You didn't select a choice.\",\n",
    "        })\n",
    "    else:\n",
    "        selected_choice.votes += 1\n",
    "        selected_choice.save()\n",
    "        # 投票成功后，重链接至结果页面\n",
    "        return HttpResponseRedirect(reverse('polls:results', args=(p.id,)))\n",
    "        # reverse() 调用将返回一个这样的字符串：'/polls/3/results/'"
   ]
  },
  {
   "cell_type": "markdown",
   "metadata": {},
   "source": [
    "### 在views.py编写results视图"
   ]
  },
  {
   "cell_type": "code",
   "execution_count": null,
   "metadata": {
    "collapsed": true
   },
   "outputs": [],
   "source": [
    "from django.shortcuts import get_object_or_404, render\n",
    "\n",
    "\n",
    "def results(request, question_id):\n",
    "    question = get_object_or_404(Question, pk=question_id)\n",
    "    return render(request, 'polls/results.html', {'question': question})"
   ]
  },
  {
   "cell_type": "markdown",
   "metadata": {},
   "source": [
    "创建一个polls/results.html模板："
   ]
  },
  {
   "cell_type": "code",
   "execution_count": null,
   "metadata": {
    "collapsed": true
   },
   "outputs": [],
   "source": [
    "<h1>{{ question.question_text }}</h1>\n",
    "\n",
    "<ul>\n",
    "{% for choice in question.choice_set.all %}\n",
    "    <li>{{ choice.choice_text }} -- {{ choice.votes }} vote{{ choice.votes|pluralize }}</li>\n",
    "{% endfor %}\n",
    "</ul>\n",
    "\n",
    "<a href=\"{% url 'polls:detail' question.id %}\">Vote again?</a>"
   ]
  },
  {
   "cell_type": "markdown",
   "metadata": {},
   "source": [
    "## 使用通用视图"
   ]
  },
  {
   "cell_type": "markdown",
   "metadata": {},
   "source": [
    "### 改良URLconf "
   ]
  },
  {
   "cell_type": "markdown",
   "metadata": {},
   "source": [
    " polls/urls.py  #注意在第二个和第三个模式的正则表达式中，匹配的模式的名字变成 pk"
   ]
  },
  {
   "cell_type": "code",
   "execution_count": null,
   "metadata": {
    "collapsed": true
   },
   "outputs": [],
   "source": [
    "from django.conf.urls import url\n",
    "\n",
    "from . import views\n",
    "\n",
    "urlpatterns = [\n",
    "    url(r'^$', views.IndexView.as_view(), name='index'),\n",
    "    url(r'^(?P<pk>[0-9]+)/$', views.DetailView.as_view(), name='detail'),\n",
    "    url(r'^(?P<pk>[0-9]+)/results/$', views.ResultsView.as_view(), name='results'),\n",
    "    url(r'^(?P<question_id>[0-9]+)/vote/$', views.vote, name='vote'),\n",
    "]"
   ]
  },
  {
   "cell_type": "markdown",
   "metadata": {},
   "source": [
    "### 改良视图"
   ]
  },
  {
   "cell_type": "markdown",
   "metadata": {},
   "source": [
    "删除旧的index、detail和 results 视图，并用Django的通用视图代替。打开polls/views.py文件，并将它修改成："
   ]
  },
  {
   "cell_type": "code",
   "execution_count": null,
   "metadata": {
    "collapsed": true
   },
   "outputs": [],
   "source": [
    "from django.shortcuts import get_object_or_404, render\n",
    "from django.http import HttpResponseRedirect\n",
    "from django.core.urlresolvers import reverse\n",
    "from django.views import generic\n",
    "\n",
    "from .models import Choice, Question\n",
    "\n",
    "\n",
    "class IndexView(generic.ListView):\n",
    "    template_name = 'polls/index.html'\n",
    "    context_object_name = 'latest_question_list'\n",
    "\n",
    "    def get_queryset(self):\n",
    "        \"\"\"Return the last five published questions.\"\"\"\n",
    "        return Question.objects.order_by('-pub_date')[:5]\n",
    "\n",
    "\n",
    "class DetailView(generic.DetailView):\n",
    "    model = Question\n",
    "    template_name = 'polls/detail.html'\n",
    "\n",
    "\n",
    "class ResultsView(generic.DetailView):\n",
    "    model = Question\n",
    "    template_name = 'polls/results.html'\n",
    "\n",
    "\n",
    "def vote(request, question_id):\n",
    "    ... # same as above"
   ]
  },
  {
   "cell_type": "markdown",
   "metadata": {},
   "source": [
    "我们在这里使用两个通用视图：ListView 和 DetailView。这两个视图分别抽象“显示一个对象列表”和“显示一个特定类型对象的详细信息页面”这两种概念。\n",
    "\n",
    "    每个通用视图需要知道它将作用于哪个模型。 这由model 属性提供。\n",
    "    DetailView期望从URL中捕获名为\"pk\"的主键值，所以我们为通用视图把question_id改成pk 。\n"
   ]
  }
 ],
 "metadata": {
  "kernelspec": {
   "display_name": "Python 3",
   "language": "python",
   "name": "python3"
  },
  "language_info": {
   "codemirror_mode": {
    "name": "ipython",
    "version": 3
   },
   "file_extension": ".py",
   "mimetype": "text/x-python",
   "name": "python",
   "nbconvert_exporter": "python",
   "pygments_lexer": "ipython3",
   "version": "3.4.4"
  }
 },
 "nbformat": 4,
 "nbformat_minor": 0
}
