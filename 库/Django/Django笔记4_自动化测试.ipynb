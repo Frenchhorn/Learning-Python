{
 "cells": [
  {
   "cell_type": "markdown",
   "metadata": {
    "collapsed": true
   },
   "source": [
    "# 自动化测试"
   ]
  },
  {
   "cell_type": "markdown",
   "metadata": {},
   "source": [
    "## polls中的一个错误"
   ]
  },
  {
   "cell_type": "markdown",
   "metadata": {},
   "source": [
    "如果Question在最近一天发布，Question.was_published_recently() 方法返回True（这是对的），但是如果Question的pub_date 字段是在未来，它还返回True（这肯定是不对的）。  \n",
    "你可以在管理站点中看到这一点； 创建一个发布时间在未来的一个Question； 你可以看到Question 的变更列表声称它是最近发布的。  \n",
    "你还可以使用shell看到这点：  "
   ]
  },
  {
   "cell_type": "code",
   "execution_count": null,
   "metadata": {
    "collapsed": true
   },
   "outputs": [],
   "source": [
    ">>> import datetime\n",
    ">>> from django.utils import timezone\n",
    ">>> from polls.models import Question\n",
    ">>> # create a Question instance with pub_date 30 days in the future\n",
    ">>> future_question = Question(publish_date=timezone.now() + datetime.timedelta(days=30))\n",
    ">>> # was it published recently?\n",
    ">>> future_question.was_published_recently()\n",
    "True"
   ]
  },
  {
   "cell_type": "markdown",
   "metadata": {},
   "source": [
    "## 创建一个测试来检查这错误"
   ]
  },
  {
   "cell_type": "markdown",
   "metadata": {},
   "source": [
    "将下面的代码放入polls应用下的tests.py文件中："
   ]
  },
  {
   "cell_type": "code",
   "execution_count": null,
   "metadata": {
    "collapsed": true
   },
   "outputs": [],
   "source": [
    "import datetime\n",
    "\n",
    "from django.utils import timezone\n",
    "from django.test import TestCase\n",
    "\n",
    "from .models import Question\n",
    "\n",
    "\n",
    "class QuestionMethodTests(TestCase):\n",
    "\n",
    "    def test_was_published_recently_with_future_question(self):\n",
    "        \"\"\"\n",
    "        was_published_recently() should return False for questions whose\n",
    "        pub_date is in the future.\n",
    "        \"\"\"\n",
    "        time = timezone.now() + datetime.timedelta(days=30)\n",
    "        future_question = Question(publish_date=time)\n",
    "        self.assertEqual(future_question.was_published_recently(), False)"
   ]
  },
  {
   "cell_type": "markdown",
   "metadata": {},
   "source": [
    "我们在这里做的是创建一个django.test.TestCase子类，它具有一个方法可以创建一个pub_date在未来的Question实例。然后我们检查was_published_recently()的输出 —— 它应该是 False."
   ]
  },
  {
   "cell_type": "markdown",
   "metadata": {},
   "source": [
    "## 运行测试"
   ]
  },
  {
   "cell_type": "markdown",
   "metadata": {},
   "source": [
    "在终端中，我们可以运行我们的测试："
   ]
  },
  {
   "cell_type": "code",
   "execution_count": null,
   "metadata": {
    "collapsed": true
   },
   "outputs": [],
   "source": [
    "$ python manage.py test polls"
   ]
  },
  {
   "cell_type": "markdown",
   "metadata": {},
   "source": [
    "你将看到类似下面的输出："
   ]
  },
  {
   "cell_type": "code",
   "execution_count": null,
   "metadata": {
    "collapsed": true
   },
   "outputs": [],
   "source": [
    "Creating test database for alias 'default'...\n",
    "F\n",
    "======================================================================\n",
    "FAIL: test_was_published_recently_with_future_question (polls.tests.QuestionMethodTests)\n",
    "----------------------------------------------------------------------\n",
    "Traceback (most recent call last):\n",
    "  File \"/path/to/mysite/polls/tests.py\", line 16, in test_was_published_recently_with_future_question\n",
    "    self.assertEqual(future_question.was_published_recently(), False)\n",
    "AssertionError: True != False\n",
    "\n",
    "----------------------------------------------------------------------\n",
    "Ran 1 test in 0.001s\n",
    "\n",
    "FAILED (failures=1)\n",
    "Destroying test database for alias 'default'..."
   ]
  },
  {
   "cell_type": "markdown",
   "metadata": {},
   "source": [
    "发生了如下这些事："
   ]
  },
  {
   "cell_type": "markdown",
   "metadata": {},
   "source": [
    "* python manage.py test polls查找polls 应用下的测试用例\n",
    "* 它找到 django.test.TestCase 类的一个子类\n",
    "* 它为测试创建了一个特定的数据库\n",
    "* 它查找用于测试的方法 —— 名字以test开始\n",
    "* 它运行test_was_published_recently_with_future_question创建一个pub_date为未来30天的 Question实例然后利用assertEqual()方法，它发现was_published_recently() 返回True，尽管我们希望它返回False\n",
    "\n",
    "这个测试通知我们哪个测试失败，甚至是错误出现在哪一行。"
   ]
  },
  {
   "cell_type": "markdown",
   "metadata": {},
   "source": [
    "## 修复这个错误"
   ]
  },
  {
   "cell_type": "markdown",
   "metadata": {},
   "source": [
    "我们已经知道问题是什么：如果它的pub_date是在未来,Question.was_published_recently() 应该返回 False。在models.py中修复这个方法，让它只有当日期是在过去时才返回True ："
   ]
  },
  {
   "cell_type": "code",
   "execution_count": null,
   "metadata": {
    "collapsed": true
   },
   "outputs": [],
   "source": [
    "def was_published_recently(self):\n",
    "    now = timezone.now()\n",
    "    return now - datetime.timedelta(days=1) <= self.publish_date <= now"
   ]
  },
  {
   "cell_type": "markdown",
   "metadata": {},
   "source": [
    "再次运行测试："
   ]
  },
  {
   "cell_type": "code",
   "execution_count": null,
   "metadata": {
    "collapsed": true
   },
   "outputs": [],
   "source": [
    "Creating test database for alias 'default'...\n",
    ".\n",
    "----------------------------------------------------------------------\n",
    "Ran 1 test in 0.001s\n",
    "\n",
    "OK\n",
    "Destroying test database for alias 'default'..."
   ]
  },
  {
   "cell_type": "markdown",
   "metadata": {},
   "source": [
    "## 更加综合的测试"
   ]
  },
  {
   "cell_type": "markdown",
   "metadata": {},
   "source": [
    "在polls/test.py中添加："
   ]
  },
  {
   "cell_type": "code",
   "execution_count": null,
   "metadata": {
    "collapsed": true
   },
   "outputs": [],
   "source": [
    "def test_was_published_recently_with_old_question(self):\n",
    "    \"\"\"\n",
    "    was_published_recently() should return False for questions whose\n",
    "    pub_date is older than 1 day.\n",
    "    \"\"\"\n",
    "    time = timezone.now() - datetime.timedelta(days=30)\n",
    "    old_question = Question(pub_date=time)\n",
    "    self.assertEqual(old_question.was_published_recently(), False)\n",
    "\n",
    "def test_was_published_recently_with_recent_question(self):\n",
    "    \"\"\"\n",
    "    was_published_recently() should return True for questions whose\n",
    "    pub_date is within the last day.\n",
    "    \"\"\"\n",
    "    time = timezone.now() - datetime.timedelta(hours=1)\n",
    "    recent_question = Question(pub_date=time)\n",
    "    self.assertEqual(recent_question.was_published_recently(), True)"
   ]
  },
  {
   "cell_type": "markdown",
   "metadata": {},
   "source": [
    "现在我们有三个测试来保证无论发布时间是在过去、现在还是未来 Question.was_published_recently()都将返回合理的数据。"
   ]
  },
  {
   "cell_type": "markdown",
   "metadata": {},
   "source": [
    "## Django测试客户端"
   ]
  },
  {
   "cell_type": "markdown",
   "metadata": {},
   "source": [
    "Django提供了一个测试客户端来模拟用户和代码的交互。我们可以在tests.py 甚至在shell 中使用它。  \n",
    "我们将再次以shell开始，但是我们需要做很多在tests.py中不必做的事。首先是在 shell中设置测试环境："
   ]
  },
  {
   "cell_type": "code",
   "execution_count": null,
   "metadata": {
    "collapsed": true
   },
   "outputs": [],
   "source": [
    ">>> from django.test.utils import setup_test_environment\n",
    ">>> setup_test_environment()\n",
    ">>> from django.test import Client\n",
    ">>> # create an instance of the client for our use\n",
    ">>> client = Client()"
   ]
  },
  {
   "cell_type": "markdown",
   "metadata": {},
   "source": [
    "以上为准备工作，下面开始测试："
   ]
  },
  {
   "cell_type": "code",
   "execution_count": null,
   "metadata": {
    "collapsed": true
   },
   "outputs": [],
   "source": [
    ">>> # get a response from '/'\n",
    ">>> response = client.get('/')\n",
    ">>> # we should expect a 404 from that address\n",
    ">>> response.status_code\n",
    "404\n",
    ">>> # on the other hand we should expect to find something at '/polls/'\n",
    ">>> # we'll use 'reverse()' rather than a hardcoded URL\n",
    ">>> from django.core.urlresolvers import reverse\n",
    ">>> response = client.get(reverse('polls:index'))\n",
    ">>> response.status_code\n",
    "200\n",
    ">>> response.content\n",
    "'\\n\\n\\n    <p>No polls are available.</p>\\n\\n'\n",
    ">>> # note - you might get unexpected results if your ``TIME_ZONE``\n",
    ">>> # in ``settings.py`` is not correct. If you need to change it,\n",
    ">>> # you will also need to restart your shell session\n",
    ">>> from polls.models import Question\n",
    ">>> from django.utils import timezone\n",
    ">>> # create a Question and save it\n",
    ">>> q = Question(question_text=\"Who is your favorite Beatle?\", pub_date=timezone.now())\n",
    ">>> q.save()\n",
    ">>> # check the response once again\n",
    ">>> response = client.get('/polls/')\n",
    ">>> response.content\n",
    "'\\n\\n\\n    <ul>\\n    \\n        <li><a href=\"/polls/1/\">Who is your favorite Beatle?</a></li>\\n    \\n    </ul>\\n\\n'\n",
    ">>> # If the following doesn't work, you probably omitted the call to\n",
    ">>> # setup_test_environment() described above\n",
    ">>> response.context['latest_question_list']\n",
    "[<Question: Who is your favorite Beatle?>]"
   ]
  },
  {
   "cell_type": "markdown",
   "metadata": {},
   "source": [
    "## 改进我们的视图"
   ]
  },
  {
   "cell_type": "markdown",
   "metadata": {},
   "source": [
    "我们需要修改get_queryset方法并让它将日期与timezone.now()进行比较。"
   ]
  },
  {
   "cell_type": "code",
   "execution_count": null,
   "metadata": {
    "collapsed": true
   },
   "outputs": [],
   "source": [
    "from django.utils import timezone\n",
    "\n",
    "class IndexView(generic.ListView):\n",
    "    template_name = 'polls/index.html'\n",
    "    context_object_name = 'latest_question_list'\n",
    "    def get_queryset(self):\n",
    "        \"\"\"\n",
    "        Return the last five published questions (not including those set to be\n",
    "        published in the future).\n",
    "        \"\"\"\n",
    "        return Question.objects.filter(\n",
    "            pub_date__lte=timezone.now()\n",
    "        ).order_by('-publish_date')[:5]"
   ]
  },
  {
   "cell_type": "markdown",
   "metadata": {},
   "source": [
    "## 测试我们的新视图"
   ]
  },
  {
   "cell_type": "markdown",
   "metadata": {},
   "source": [
    "将下面的代码添加到polls/tests.py："
   ]
  },
  {
   "cell_type": "code",
   "execution_count": null,
   "metadata": {
    "collapsed": true
   },
   "outputs": [],
   "source": [
    "from django.core.urlresolvers import reverse\n",
    "\n",
    "def create_question(question_text, days):\n",
    "    \"\"\"\n",
    "    Creates a question with the given `question_text` published the given\n",
    "    number of `days` offset to now (negative for questions published\n",
    "    in the past, positive for questions that have yet to be published).\n",
    "    \"\"\"\n",
    "    time = timezone.now() + datetime.timedelta(days=days)\n",
    "    return Question.objects.create(question_text=question_text,\n",
    "                                   publish_date=time)\n",
    "\n",
    "\n",
    "class QuestionViewTests(TestCase):\n",
    "    def test_index_view_with_no_questions(self):\n",
    "        \"\"\"\n",
    "        If no questions exist, an appropriate message should be displayed.\n",
    "        \"\"\"\n",
    "        response = self.client.get(reverse('polls:index'))\n",
    "        self.assertEqual(response.status_code, 200)\n",
    "        self.assertContains(response, \"No polls are available.\")\n",
    "        self.assertQuerysetEqual(response.context['latest_question_list'], [])\n",
    "\n",
    "    def test_index_view_with_a_past_question(self):\n",
    "        \"\"\"\n",
    "        Questions with a pub_date in the past should be displayed on the\n",
    "        index page.\n",
    "        \"\"\"\n",
    "        create_question(question_text=\"Past question.\", days=-30)\n",
    "        response = self.client.get(reverse('polls:index'))\n",
    "        self.assertQuerysetEqual(\n",
    "            response.context['latest_question_list'],\n",
    "            ['<Question: Past question.>']\n",
    "        )\n",
    "\n",
    "    def test_index_view_with_a_future_question(self):\n",
    "        \"\"\"\n",
    "        Questions with a pub_date in the future should not be displayed on\n",
    "        the index page.\n",
    "        \"\"\"\n",
    "        create_question(question_text=\"Future question.\", days=30)\n",
    "        response = self.client.get(reverse('polls:index'))\n",
    "        self.assertContains(response, \"No polls are available.\",\n",
    "                            status_code=200)\n",
    "        self.assertQuerysetEqual(response.context['latest_question_list'], [])\n",
    "\n",
    "    def test_index_view_with_future_question_and_past_question(self):\n",
    "        \"\"\"\n",
    "        Even if both past and future questions exist, only past questions\n",
    "        should be displayed.\n",
    "        \"\"\"\n",
    "        create_question(question_text=\"Past question.\", days=-30)\n",
    "        create_question(question_text=\"Future question.\", days=30)\n",
    "        response = self.client.get(reverse('polls:index'))\n",
    "        self.assertQuerysetEqual(\n",
    "            response.context['latest_question_list'],\n",
    "            ['<Question: Past question.>']\n",
    "        )\n",
    "\n",
    "    def test_index_view_with_two_past_questions(self):\n",
    "        \"\"\"\n",
    "        The questions index page may display multiple questions.\n",
    "        \"\"\"\n",
    "        create_question(question_text=\"Past question 1.\", days=-30)\n",
    "        create_question(question_text=\"Past question 2.\", days=-5)\n",
    "        response = self.client.get(reverse('polls:index'))\n",
    "        self.assertQuerysetEqual(\n",
    "            response.context['latest_question_list'],\n",
    "            ['<Question: Past question 2.>', '<Question: Past question 1.>']\n",
    "        )"
   ]
  },
  {
   "cell_type": "markdown",
   "metadata": {},
   "source": [
    "让我们更详细地看下以上这些内容。\n",
    "\n",
    "第一个是Question的快捷函数create_question，将重复创建Question的过程封装在一起。\n",
    "\n",
    "test_index_view_with_no_questions不创建任何Question，但会检查消息“No polls are available.” 并验证latest_question_list为空。注意django.test.TestCase类提供一些额外的断言方法。在这些例子中，我们使用assertContains() 和 assertQuerysetEqual()。\n",
    "\n",
    "在test_index_view_with_a_past_question中，我们创建一个Question并验证它是否出现在列表中。\n",
    "\n",
    "在test_index_view_with_a_future_question中，我们创建一个pub_date 在未来的Question。数据库会为每一个测试方法进行重置，所以第一个Question已经不在那里，因此首页面里不应该有任何Question。\n",
    "\n",
    "等等。 事实上，我们是在用测试模拟站点上的管理员输入和用户体验，检查针对系统每一个状态和状态的新变化，发布的是预期的结果。"
   ]
  },
  {
   "cell_type": "markdown",
   "metadata": {},
   "source": [
    "## 测试 DetailView"
   ]
  },
  {
   "cell_type": "markdown",
   "metadata": {},
   "source": [
    "一切都运行得很好； 然而，即使未来发布的Question不会出现在index中，如果用户知道或者猜出正确的URL依然可以访问它们。所以我们需要给polls/views.py中的DetailView添加一个这样的约束："
   ]
  },
  {
   "cell_type": "code",
   "execution_count": null,
   "metadata": {
    "collapsed": true
   },
   "outputs": [],
   "source": [
    "class DetailView(generic.DetailView):\n",
    "    ...\n",
    "    def get_queryset(self):\n",
    "        \"\"\"\n",
    "        Excludes any questions that aren't published yet.\n",
    "        \"\"\"\n",
    "        return Question.objects.filter(publish_date__lte=timezone.now())"
   ]
  },
  {
   "cell_type": "markdown",
   "metadata": {},
   "source": [
    "在polls/test.py中添加一些测试："
   ]
  },
  {
   "cell_type": "code",
   "execution_count": null,
   "metadata": {
    "collapsed": true
   },
   "outputs": [],
   "source": [
    "class QuestionIndexDetailTests(TestCase):\n",
    "    def test_detail_view_with_a_future_question(self):\n",
    "        \"\"\"\n",
    "        The detail view of a question with a pub_date in the future should\n",
    "        return a 404 not found.\n",
    "        \"\"\"\n",
    "        future_question = create_question(question_text='Future question.',\n",
    "                                          days=5)\n",
    "        response = self.client.get(reverse('polls:detail',\n",
    "                                   args=(future_question.id,)))\n",
    "        self.assertEqual(response.status_code, 404)\n",
    "\n",
    "    def test_detail_view_with_a_past_question(self):\n",
    "        \"\"\"\n",
    "        The detail view of a question with a pub_date in the past should\n",
    "        display the question's text.\n",
    "        \"\"\"\n",
    "        past_question = create_question(question_text='Past Question.',\n",
    "                                        days=-5)\n",
    "        response = self.client.get(reverse('polls:detail',\n",
    "                                   args=(past_question.id,)))\n",
    "        self.assertContains(response, past_question.question_text,\n",
    "                            status_code=200)"
   ]
  }
 ],
 "metadata": {
  "kernelspec": {
   "display_name": "Python 3",
   "language": "python",
   "name": "python3"
  },
  "language_info": {
   "codemirror_mode": {
    "name": "ipython",
    "version": 3
   },
   "file_extension": ".py",
   "mimetype": "text/x-python",
   "name": "python",
   "nbconvert_exporter": "python",
   "pygments_lexer": "ipython3",
   "version": "3.4.4"
  }
 },
 "nbformat": 4,
 "nbformat_minor": 0
}
