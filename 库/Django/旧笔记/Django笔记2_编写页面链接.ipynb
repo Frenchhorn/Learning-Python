{
 "cells": [
  {
   "cell_type": "markdown",
   "metadata": {},
   "source": [
    "# 编写第一个应用polls"
   ]
  },
  {
   "cell_type": "markdown",
   "metadata": {},
   "source": [
    "在这个投票应用中，将有以下四个视图：  \n",
    "* Question首页 —— 显示最新发布的几个Question。\n",
    "* Question“详细”页面 —— 显示单个Question的具体内容，不显示该议题的当前投票结果，而是提供一个投票的表单。\n",
    "* Question“结果”页面 —— 显示特定的Question的投票结果。\n",
    "* 投票功能 —— 处理对Question中Choice的投票。"
   ]
  },
  {
   "cell_type": "markdown",
   "metadata": {},
   "source": [
    "## 编辑流程（以第一个视图为例）"
   ]
  },
  {
   "cell_type": "markdown",
   "metadata": {},
   "source": [
    "视图在polls/views.py中创建"
   ]
  },
  {
   "cell_type": "code",
   "execution_count": null,
   "metadata": {
    "collapsed": true
   },
   "outputs": [],
   "source": [
    "from django.http import HttpResponse\n",
    "def index(request):\n",
    "    return HttpResponse(\"Hello, world. 这里是投票界面首页。\")"
   ]
  },
  {
   "cell_type": "markdown",
   "metadata": {},
   "source": [
    "把投票应用的视图映射都URL上  \n",
    "这需要在投票应用的目录内部创建URLconf,即创建一个urls.py文件。  \n",
    "urls.py用于写入不同页面所对应的功能，名称"
   ]
  },
  {
   "cell_type": "code",
   "execution_count": null,
   "metadata": {
    "collapsed": true
   },
   "outputs": [],
   "source": [
    "polls/\n",
    "    __init__.py\n",
    "    admin.py\n",
    "    models.py\n",
    "    tests.py\n",
    "    urls.py\n",
    "    views.py"
   ]
  },
  {
   "cell_type": "markdown",
   "metadata": {},
   "source": [
    "在polls/urls.py中写入以下代码："
   ]
  },
  {
   "cell_type": "code",
   "execution_count": null,
   "metadata": {
    "collapsed": true
   },
   "outputs": [],
   "source": [
    "from django.conf.urls import url\n",
    "\n",
    "from . import views  #导入视图\n",
    "\n",
    "urlpatterns = [\n",
    "    url(r'^$', views.index, name='index'),  #正则表达式，视图参数，命名\n",
    "]"
   ]
  },
  {
   "cell_type": "markdown",
   "metadata": {},
   "source": [
    "让主URLconf链接到polls.urls模块中。  \n",
    "这需要在project01/urls.py中插入一个include():"
   ]
  },
  {
   "cell_type": "code",
   "execution_count": null,
   "metadata": {
    "collapsed": true
   },
   "outputs": [],
   "source": [
    "from django.conf.urls import include, url\n",
    "from django.contrib import admin\n",
    "\n",
    "urlpatterns = [\n",
    "    url(r'^polls/', include('polls.urls')),  #插入的内容，第一个参数是正则表达式，第二个是视图参数\n",
    "    url(r'^admin/', include(admin.site.urls)),\n",
    "]"
   ]
  },
  {
   "cell_type": "markdown",
   "metadata": {},
   "source": [
    "## 编辑其它视图"
   ]
  },
  {
   "cell_type": "markdown",
   "metadata": {},
   "source": [
    "在polls/views.py添加一些更多的视图"
   ]
  },
  {
   "cell_type": "code",
   "execution_count": null,
   "metadata": {
    "collapsed": true
   },
   "outputs": [],
   "source": [
    "def detail(request, question_id):\n",
    "    return HttpResponse(\"You're looking at question %s.\" % question_id)\n",
    "\n",
    "def results(request, question_id):\n",
    "    response = \"You're looking at the results of question %s.\"\n",
    "    return HttpResponse(response % question_id)\n",
    "\n",
    "def vote(request, question_id):\n",
    "    return HttpResponse(\"You're voting on question %s.\" % question_id)"
   ]
  },
  {
   "cell_type": "markdown",
   "metadata": {},
   "source": [
    "将这些新的视图和polls.urls模块关联起来  \n",
    "编辑polls/urls.py"
   ]
  },
  {
   "cell_type": "code",
   "execution_count": null,
   "metadata": {
    "collapsed": true
   },
   "outputs": [],
   "source": [
    "from django.conf.urls import url\n",
    "\n",
    "from . import views\n",
    "\n",
    "urlpatterns = [\n",
    "    # ex: /polls/\n",
    "    url(r'^$', views.index, name='index'),\n",
    "    # ex: /polls/5/\n",
    "    url(r'^(?P<question_id>[0-9]+)/$', views.detail, name='detail'),\n",
    "    # ex: /polls/5/results/\n",
    "    url(r'^(?P<question_id>[0-9]+)/results/$', views.results, name='results'),\n",
    "    # ex: /polls/5/vote/\n",
    "    url(r'^(?P<question_id>[0-9]+)/vote/$', views.vote, name='vote'),\n",
    "]"
   ]
  },
  {
   "cell_type": "markdown",
   "metadata": {},
   "source": [
    "|地址|指向|\n",
    "|----|----|\n",
    "|/polls/|index页面|\n",
    "|/polls/123/|detail页面|\n",
    "|/polls/123/results/|results页面|\n",
    "|/polls/123/vote/|vote页面|"
   ]
  },
  {
   "cell_type": "markdown",
   "metadata": {},
   "source": [
    "## 编辑页面的功能"
   ]
  },
  {
   "cell_type": "markdown",
   "metadata": {},
   "source": [
    "### 使index页码显示最新的5条Question"
   ]
  },
  {
   "cell_type": "markdown",
   "metadata": {},
   "source": [
    "修改polls/views.py的index部分"
   ]
  },
  {
   "cell_type": "code",
   "execution_count": null,
   "metadata": {
    "collapsed": true
   },
   "outputs": [],
   "source": [
    "from django.http import HttpResponse\n",
    "\n",
    "from .models import Question  #需要导入模型中的Question\n",
    "\n",
    "\n",
    "def index(request):\n",
    "    latest_question_list = Question.objects.order_by('-publish_date')[:5]  #显示最新的五条问题\n",
    "    output = ', '.join([p.question_text for p in latest_question_list])\n",
    "    return HttpResponse(output)"
   ]
  },
  {
   "cell_type": "markdown",
   "metadata": {},
   "source": [
    "## 使用模板"
   ]
  },
  {
   "cell_type": "markdown",
   "metadata": {},
   "source": [
    "在polls/下创建templates文件夹  \n",
    "在polls/templates/下建立polls文件夹  \n",
    "在创建一个index.html文件,写入"
   ]
  },
  {
   "cell_type": "code",
   "execution_count": null,
   "metadata": {
    "collapsed": true
   },
   "outputs": [],
   "source": [
    "{% if latest_question_list %}\n",
    "    <ul>\n",
    "    {% for question in latest_question_list %}\n",
    "        <li><a href=\"/polls/{{ question.id }}/\">{{ question.question_text }}</a></li>\n",
    "    {% endfor %}\n",
    "    </ul>\n",
    "{% else %}\n",
    "    <p>No polls are available.</p>\n",
    "{% endif %}"
   ]
  },
  {
   "cell_type": "markdown",
   "metadata": {},
   "source": [
    "更新polls/views.py下的index视图"
   ]
  },
  {
   "cell_type": "code",
   "execution_count": null,
   "metadata": {
    "collapsed": true
   },
   "outputs": [],
   "source": [
    "from django.http import HttpResponse\n",
    "from django.template import RequestContext, loader\n",
    "\n",
    "from .models import Question\n",
    "\n",
    "\n",
    "def index(request):\n",
    "    latest_question_list = Question.objects.order_by('-pub_date')[:5]\n",
    "    template = loader.get_template('polls/index.html')  #加载模板\n",
    "    context = RequestContext(request, {\n",
    "        'latest_question_list': latest_question_list,\n",
    "    })\n",
    "    return HttpResponse(template.render(context))"
   ]
  },
  {
   "cell_type": "markdown",
   "metadata": {},
   "source": [
    "### 使用模板的快捷方式"
   ]
  },
  {
   "cell_type": "markdown",
   "metadata": {},
   "source": [
    "把polls/views.py下的index修改为"
   ]
  },
  {
   "cell_type": "code",
   "execution_count": null,
   "metadata": {
    "collapsed": true
   },
   "outputs": [],
   "source": [
    "from django.shortcuts import render\n",
    "\n",
    "from .models import Question\n",
    "\n",
    "\n",
    "def index(request):\n",
    "    latest_question_list = Question.objects.order_by('-pub_date')[:5]\n",
    "    context = {'latest_question_list': latest_question_list}\n",
    "    return render(request, 'polls/index.html', context)"
   ]
  },
  {
   "cell_type": "markdown",
   "metadata": {},
   "source": [
    "## 引发404错误"
   ]
  },
  {
   "cell_type": "markdown",
   "metadata": {},
   "source": [
    "如果没有找到所请求ID的Question（即detail页面），这个视图引发一个Http404异常  \n",
    "在polls/views.py修改detail"
   ]
  },
  {
   "cell_type": "code",
   "execution_count": null,
   "metadata": {
    "collapsed": true
   },
   "outputs": [],
   "source": [
    "from django.http import Http404\n",
    "from django.shortcuts import render\n",
    "\n",
    "from .models import Question\n",
    "# ...\n",
    "def detail(request, question_id):\n",
    "    try:\n",
    "        question = Question.objects.get(pk=question_id)\n",
    "    except Question.DoesNotExist:\n",
    "        raise Http404(\"Question does not exist\")\n",
    "    return render(request, 'polls/detail.html', {'question': question})"
   ]
  },
  {
   "cell_type": "markdown",
   "metadata": {},
   "source": [
    "### 引发404错误的快捷方式"
   ]
  },
  {
   "cell_type": "markdown",
   "metadata": {},
   "source": [
    "在polls/views.py修改detail"
   ]
  },
  {
   "cell_type": "code",
   "execution_count": null,
   "metadata": {
    "collapsed": true
   },
   "outputs": [],
   "source": [
    "from django.shortcuts import get_object_or_404, render\n",
    "\n",
    "from .models import Question\n",
    "# ...\n",
    "def detail(request, question_id):\n",
    "    question = get_object_or_404(Question, pk=question_id)\n",
    "    return render(request, 'polls/detail.html', {'question': question})"
   ]
  },
  {
   "cell_type": "markdown",
   "metadata": {},
   "source": [
    "## 移除模板中硬编码的URLs"
   ]
  },
  {
   "cell_type": "markdown",
   "metadata": {},
   "source": [
    "修改polls/index.html  \n",
    "原来是："
   ]
  },
  {
   "cell_type": "code",
   "execution_count": null,
   "metadata": {
    "collapsed": true
   },
   "outputs": [],
   "source": [
    "<li><a href=\"/polls/{{ question.id }}/\">{{ question.question_text }}</a></li>"
   ]
  },
  {
   "cell_type": "markdown",
   "metadata": {},
   "source": [
    "修改后："
   ]
  },
  {
   "cell_type": "code",
   "execution_count": null,
   "metadata": {
    "collapsed": true
   },
   "outputs": [],
   "source": [
    "<li><a href=\"{% url 'detail' question.id %}\">{{ question.question_text }}</a></li>"
   ]
  },
  {
   "cell_type": "markdown",
   "metadata": {},
   "source": [
    "如果你想把polls应用中detail视图的URL改成其它样子比如 polls/specifics/12/，就可以不必在该模板（或者多个模板）中修改它，只需要修改 polls/urls.py"
   ]
  },
  {
   "cell_type": "code",
   "execution_count": null,
   "metadata": {
    "collapsed": true
   },
   "outputs": [],
   "source": [
    "...\n",
    "# added the word 'specifics'\n",
    "url(r'^specifics/(?P<question_id>[0-9]+)/$', views.detail, name='detail'),\n",
    "..."
   ]
  },
  {
   "cell_type": "markdown",
   "metadata": {},
   "source": [
    "## 带命名空间的URL名字"
   ]
  },
  {
   "cell_type": "markdown",
   "metadata": {},
   "source": [
    "在你的主URLconf下添加命名空间。 在project01/urls.py文件中，添加命名空间将它修改成："
   ]
  },
  {
   "cell_type": "code",
   "execution_count": null,
   "metadata": {
    "collapsed": true
   },
   "outputs": [],
   "source": [
    "from django.conf.urls import include, url\n",
    "from django.contrib import admin\n",
    "\n",
    "urlpatterns = [\n",
    "    url(r'^polls/', include('polls.urls', namespace=\"polls\")),\n",
    "    url(r'^admin/', include(admin.site.urls)),\n",
    "]"
   ]
  },
  {
   "cell_type": "markdown",
   "metadata": {},
   "source": [
    "现在将你的模板polls/index.html由："
   ]
  },
  {
   "cell_type": "code",
   "execution_count": null,
   "metadata": {
    "collapsed": true
   },
   "outputs": [],
   "source": [
    "<li><a href=\"{% url 'detail' question.id %}\">{{ question.question_text }}</a></li>"
   ]
  },
  {
   "cell_type": "markdown",
   "metadata": {},
   "source": [
    "修改为指向具有命名空间的详细视图："
   ]
  },
  {
   "cell_type": "code",
   "execution_count": null,
   "metadata": {
    "collapsed": true
   },
   "outputs": [],
   "source": [
    "<li><a href=\"{% url 'polls:detail' question.id %}\">{{ question.question_text }}</a></li>"
   ]
  }
 ],
 "metadata": {
  "kernelspec": {
   "display_name": "Python 3",
   "language": "python",
   "name": "python3"
  },
  "language_info": {
   "codemirror_mode": {
    "name": "ipython",
    "version": 3
   },
   "file_extension": ".py",
   "mimetype": "text/x-python",
   "name": "python",
   "nbconvert_exporter": "python",
   "pygments_lexer": "ipython3",
   "version": "3.4.4"
  }
 },
 "nbformat": 4,
 "nbformat_minor": 0
}
